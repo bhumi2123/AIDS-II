{
  "nbformat": 4,
  "nbformat_minor": 0,
  "metadata": {
    "colab": {
      "provenance": []
    },
    "kernelspec": {
      "name": "python3",
      "display_name": "Python 3"
    },
    "language_info": {
      "name": "python"
    }
  },
  "cells": [
    {
      "cell_type": "markdown",
      "source": [
        "UNION"
      ],
      "metadata": {
        "id": "FMUX6aK0o8p5"
      }
    },
    {
      "cell_type": "code",
      "execution_count": null,
      "metadata": {
        "colab": {
          "base_uri": "https://localhost:8080/"
        },
        "id": "C8vr_ggroZpt",
        "outputId": "41edf803-3aad-40ab-a680-f33f2e7a38ac"
      },
      "outputs": [
        {
          "output_type": "stream",
          "name": "stdout",
          "text": [
            "The First Fuzzy Set is : {'a': 0.2, 'b': 0.3, 'c': 0.6, 'd': 0.6}\n",
            "The Second Fuzzy Set is : {'a': 0.9, 'b': 0.9, 'c': 0.4, 'd': 0.5}\n",
            "Fuzzy Set Union is : {'a': 0.9, 'b': 0.9, 'c': 0.6, 'd': 0.6}\n"
          ]
        }
      ],
      "source": [
        "A = dict()\n",
        "B = dict()\n",
        "Y = dict()\n",
        "\n",
        "A = {\"a\": 0.2, \"b\": 0.3, \"c\": 0.6, \"d\": 0.6}\n",
        "B = {\"a\": 0.9, \"b\": 0.9, \"c\": 0.4, \"d\": 0.5}\n",
        "\n",
        "print('The First Fuzzy Set is :', A)\n",
        "print('The Second Fuzzy Set is :', B)\n",
        "\n",
        "\n",
        "for A_key, B_key in zip(A, B):\n",
        "    A_value = A[A_key]\n",
        "    B_value = B[B_key]\n",
        "\n",
        "    Y[A_key] = max(A_value, B_value)\n",
        "\n",
        "print('Fuzzy Set Union is :', Y)"
      ]
    },
    {
      "cell_type": "markdown",
      "source": [
        "Intersection"
      ],
      "metadata": {
        "id": "XXDSc_EbpCSk"
      }
    },
    {
      "cell_type": "code",
      "source": [
        "A = dict()\n",
        "B = dict()\n",
        "Y = dict()\n",
        "\n",
        "A = {\"a\": 0.2, \"b\": 0.3, \"c\": 0.6, \"d\": 0.6}\n",
        "B = {\"a\": 0.9, \"b\": 0.9, \"c\": 0.4, \"d\": 0.5}\n",
        "\n",
        "print('The First Fuzzy Set is :', A)\n",
        "print('The Second Fuzzy Set is :', B)\n",
        "\n",
        "\n",
        "for A_key, B_key in zip(A, B):\n",
        "    A_value = A[A_key]\n",
        "    B_value = B[B_key]\n",
        "\n",
        "    Y[A_key] = min(A_value, B_value)\n",
        "\n",
        "print('Fuzzy Set Union is :', Y)"
      ],
      "metadata": {
        "colab": {
          "base_uri": "https://localhost:8080/"
        },
        "id": "j6Ssm00Po-_k",
        "outputId": "dbc8f801-35bb-41e5-8710-9067f83305f9"
      },
      "execution_count": null,
      "outputs": [
        {
          "output_type": "stream",
          "name": "stdout",
          "text": [
            "The First Fuzzy Set is : {'a': 0.2, 'b': 0.3, 'c': 0.6, 'd': 0.6}\n",
            "The Second Fuzzy Set is : {'a': 0.9, 'b': 0.9, 'c': 0.4, 'd': 0.5}\n",
            "Fuzzy Set Union is : {'a': 0.2, 'b': 0.3, 'c': 0.4, 'd': 0.5}\n"
          ]
        }
      ]
    },
    {
      "cell_type": "markdown",
      "source": [
        "Complement"
      ],
      "metadata": {
        "id": "oppED-6zpK0Q"
      }
    },
    {
      "cell_type": "code",
      "source": [
        "A = dict()\n",
        "Y = dict()\n",
        "\n",
        "A = {\"a\": 0.2, \"b\": 0.3, \"c\": 0.6, \"d\": 0.6}\n",
        "\n",
        "print('The Fuzzy Set is :', A)\n",
        "\n",
        "\n",
        "for A_key in A:\n",
        "   Y[A_key]= 1-A[A_key]\n",
        "\n",
        "print('Fuzzy Set Complement is :', Y)"
      ],
      "metadata": {
        "colab": {
          "base_uri": "https://localhost:8080/"
        },
        "id": "Mjpbxk3ApEzg",
        "outputId": "363eea05-20e5-4510-ac99-7eeebf45b4d9"
      },
      "execution_count": null,
      "outputs": [
        {
          "output_type": "stream",
          "name": "stdout",
          "text": [
            "The Fuzzy Set is : {'a': 0.2, 'b': 0.3, 'c': 0.6, 'd': 0.6}\n",
            "Fuzzy Set Complement is : {'a': 0.8, 'b': 0.7, 'c': 0.4, 'd': 0.4}\n"
          ]
        }
      ]
    },
    {
      "cell_type": "markdown",
      "source": [
        "Difference"
      ],
      "metadata": {
        "id": "rY-m2JmIpSke"
      }
    },
    {
      "cell_type": "code",
      "source": [
        "A = dict()\n",
        "B = dict()\n",
        "Y = dict()\n",
        "\n",
        "A = {\"a\": 0.2, \"b\": 0.3, \"c\": 0.6, \"d\": 0.6}\n",
        "B = {\"a\": 0.9, \"b\": 0.9, \"c\": 0.4, \"d\": 0.5}\n",
        "\n",
        "print('The First Fuzzy Set is :', A)\n",
        "print('The Second Fuzzy Set is :', B)\n",
        "\n",
        "\n",
        "for A_key, B_key in zip(A, B):\n",
        "    A_value = A[A_key]\n",
        "    B_value = B[B_key]\n",
        "    B_value = 1 - B_value\n",
        "\n",
        "    Y[A_key] = min(A_value, B_value)\n",
        "\n",
        "print('Fuzzy Set Difference is :', Y)"
      ],
      "metadata": {
        "colab": {
          "base_uri": "https://localhost:8080/"
        },
        "id": "NMQYYQ2CpMxf",
        "outputId": "87222633-bf1d-41a9-9695-0fb5bcec84e7"
      },
      "execution_count": null,
      "outputs": [
        {
          "output_type": "stream",
          "name": "stdout",
          "text": [
            "The First Fuzzy Set is : {'a': 0.2, 'b': 0.3, 'c': 0.6, 'd': 0.6}\n",
            "The Second Fuzzy Set is : {'a': 0.9, 'b': 0.9, 'c': 0.4, 'd': 0.5}\n",
            "Fuzzy Set Difference is : {'a': 0.09999999999999998, 'b': 0.09999999999999998, 'c': 0.6, 'd': 0.5}\n"
          ]
        }
      ]
    },
    {
      "cell_type": "markdown",
      "source": [
        "Algebraic Sum"
      ],
      "metadata": {
        "id": "kxapa8R1pcHD"
      }
    },
    {
      "cell_type": "code",
      "source": [
        "A = dict()\n",
        "B = dict()\n",
        "Y = dict()\n",
        "\n",
        "A = {\"a\": 0.2, \"b\": 0.3, \"c\": 0.6, \"d\": 0.6}\n",
        "B = {\"a\": 0.9, \"b\": 0.9, \"c\": 0.4, \"d\": 0.5}\n",
        "\n",
        "print('The First Fuzzy Set is :', A)\n",
        "print('The Second Fuzzy Set is :', B)\n",
        "\n",
        "\n",
        "for A_key, B_key in zip(A, B):\n",
        "    A_value = A[A_key]\n",
        "    B_value = B[B_key]\n",
        "\n",
        "    Y[A_key] = A_value + B_value - (A_value * B_value)\n",
        "\n",
        "print('Fuzzy Set Algebraic Sum is :', Y)"
      ],
      "metadata": {
        "colab": {
          "base_uri": "https://localhost:8080/"
        },
        "id": "lZT44aKHpUmb",
        "outputId": "9a2b99b3-e2e5-4ef6-b139-4c4e77c0a4ea"
      },
      "execution_count": null,
      "outputs": [
        {
          "output_type": "stream",
          "name": "stdout",
          "text": [
            "The First Fuzzy Set is : {'a': 0.2, 'b': 0.3, 'c': 0.6, 'd': 0.6}\n",
            "The Second Fuzzy Set is : {'a': 0.9, 'b': 0.9, 'c': 0.4, 'd': 0.5}\n",
            "Fuzzy Set Algebraic Sum is : {'a': 0.92, 'b': 0.9299999999999999, 'c': 0.76, 'd': 0.8}\n"
          ]
        }
      ]
    },
    {
      "cell_type": "markdown",
      "source": [
        "Algebraic Product"
      ],
      "metadata": {
        "id": "gPxvX4AAph0z"
      }
    },
    {
      "cell_type": "code",
      "source": [
        "A = dict()\n",
        "B = dict()\n",
        "Y = dict()\n",
        "\n",
        "A = {\"a\": 0.2, \"b\": 0.3, \"c\": 0.6, \"d\": 0.6}\n",
        "B = {\"a\": 0.9, \"b\": 0.9, \"c\": 0.4, \"d\": 0.5}\n",
        "\n",
        "print('The First Fuzzy Set is :', A)\n",
        "print('The Second Fuzzy Set is :', B)\n",
        "\n",
        "\n",
        "for A_key, B_key in zip(A, B):\n",
        "    A_value = A[A_key]\n",
        "    B_value = B[B_key]\n",
        "\n",
        "    Y[A_key] = (A_value * B_value)\n",
        "\n",
        "print('Fuzzy Set Algebraic Product is :', Y)"
      ],
      "metadata": {
        "colab": {
          "base_uri": "https://localhost:8080/"
        },
        "id": "W72IR_E9peOp",
        "outputId": "d3292e8e-0b79-4ca9-869b-de7bdaf48251"
      },
      "execution_count": null,
      "outputs": [
        {
          "output_type": "stream",
          "name": "stdout",
          "text": [
            "The First Fuzzy Set is : {'a': 0.2, 'b': 0.3, 'c': 0.6, 'd': 0.6}\n",
            "The Second Fuzzy Set is : {'a': 0.9, 'b': 0.9, 'c': 0.4, 'd': 0.5}\n",
            "Fuzzy Set Algebraic Product is : {'a': 0.18000000000000002, 'b': 0.27, 'c': 0.24, 'd': 0.3}\n"
          ]
        }
      ]
    },
    {
      "cell_type": "markdown",
      "source": [
        "Bounded Sum"
      ],
      "metadata": {
        "id": "QBOrjBilpsJl"
      }
    },
    {
      "cell_type": "code",
      "source": [
        "A = dict()\n",
        "B = dict()\n",
        "Y = dict()\n",
        "\n",
        "A = {\"a\": 0.2, \"b\": 0.3, \"c\": 0.6, \"d\": 0.6}\n",
        "B = {\"a\": 0.9, \"b\": 0.9, \"c\": 0.4, \"d\": 0.5}\n",
        "\n",
        "print('The First Fuzzy Set is :', A)\n",
        "print('The Second Fuzzy Set is :', B)\n",
        "\n",
        "\n",
        "for A_key, B_key in zip(A, B):\n",
        "    A_value = A[A_key]\n",
        "    B_value = B[B_key]\n",
        "\n",
        "    Y[A_key] = min(1, (A_value + B_value))\n",
        "\n",
        "print('Fuzzy Set Bounded Sum is :', Y)"
      ],
      "metadata": {
        "colab": {
          "base_uri": "https://localhost:8080/"
        },
        "id": "YSkE4E0Gpl-b",
        "outputId": "bc393b57-3f10-409c-aa8a-5adb4870ba68"
      },
      "execution_count": null,
      "outputs": [
        {
          "output_type": "stream",
          "name": "stdout",
          "text": [
            "The First Fuzzy Set is : {'a': 0.2, 'b': 0.3, 'c': 0.6, 'd': 0.6}\n",
            "The Second Fuzzy Set is : {'a': 0.9, 'b': 0.9, 'c': 0.4, 'd': 0.5}\n",
            "Fuzzy Set Bounded Sum is : {'a': 1, 'b': 1, 'c': 1, 'd': 1}\n"
          ]
        }
      ]
    },
    {
      "cell_type": "markdown",
      "source": [
        "Bounded Difference"
      ],
      "metadata": {
        "id": "AAn0an8lqCvc"
      }
    },
    {
      "cell_type": "code",
      "source": [
        "A = dict()\n",
        "B = dict()\n",
        "Y = dict()\n",
        "\n",
        "A = {\"a\": 0.2, \"b\": 0.3, \"c\": 0.6, \"d\": 0.6}\n",
        "B = {\"a\": 0.9, \"b\": 0.9, \"c\": 0.4, \"d\": 0.5}\n",
        "\n",
        "print('The First Fuzzy Set is :', A)\n",
        "print('The Second Fuzzy Set is :', B)\n",
        "\n",
        "\n",
        "for A_key, B_key in zip(A, B):\n",
        "    A_value = A[A_key]\n",
        "    B_value = B[B_key]\n",
        "\n",
        "    Y[A_key] = max(0, (A_value - B_value))\n",
        "\n",
        "print('Fuzzy Set Bounded Difference is :', Y)"
      ],
      "metadata": {
        "colab": {
          "base_uri": "https://localhost:8080/"
        },
        "id": "dBmLm-7Ep9aO",
        "outputId": "967b107d-d459-4b11-cffa-fb414dbef3a8"
      },
      "execution_count": null,
      "outputs": [
        {
          "output_type": "stream",
          "name": "stdout",
          "text": [
            "The First Fuzzy Set is : {'a': 0.2, 'b': 0.3, 'c': 0.6, 'd': 0.6}\n",
            "The Second Fuzzy Set is : {'a': 0.9, 'b': 0.9, 'c': 0.4, 'd': 0.5}\n",
            "Fuzzy Set Bounded Difference is : {'a': 0, 'b': 0, 'c': 0.19999999999999996, 'd': 0.09999999999999998}\n"
          ]
        }
      ]
    }
  ]
}